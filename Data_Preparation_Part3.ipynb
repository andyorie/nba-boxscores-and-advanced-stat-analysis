{
 "cells": [
  {
   "cell_type": "markdown",
   "id": "080e7bb9",
   "metadata": {},
   "source": [
    "# Title: NBA Games - Data Preparation Part 3\n",
    "## Author: Andy Orie"
   ]
  },
  {
   "cell_type": "markdown",
   "id": "439471b9",
   "metadata": {},
   "source": [
    "**Objectives:** \n",
    "Perform the following Data Cleaning, Feature Engineering and Transformation tasks on the gm_details file, which contains player stats for specific games played per season:\n",
    "1. Fixing column names to improve readability\n",
    "2. Fixing structural issues such as how the minutes column displays data.\n",
    "3. Identifying and fixing anomalies in the data types.\n",
    "4. Identify and deal with missing values.\n",
    "5. Transform data into a format to get aggregate/ summarized data to be used to calculate advance stats.\n",
    "6. Transform the dataset to include new features with advanced stats using a python script I created named “nba_adv_stat”. "
   ]
  },
  {
   "cell_type": "code",
   "execution_count": null,
   "id": "90174eda",
   "metadata": {},
   "outputs": [],
   "source": [
    "# Starting off with a fun module to get the current date.\n",
    "\n",
    "import datetime\n",
    "\n",
    "current_date = datetime.date.today()\n",
    "\n",
    "print('The Current Date is:', current_date)"
   ]
  },
  {
   "cell_type": "code",
   "execution_count": null,
   "id": "30d90068",
   "metadata": {},
   "outputs": [],
   "source": [
    "# Global Settings and Imported Libraries\n",
    "\n",
    "import numpy as np\n",
    "import pandas as pd\n",
    "import matplotlib.pyplot as plt\n",
    "import seaborn as sb\n",
    "import os\n",
    "\n",
    "\n",
    "%matplotlib inline\n",
    "%config InlineBackend.figure_format='retina'\n",
    "\n",
    "from matplotlib import rcParams\n",
    "# Specify the figure size in inches, for both X, and Y axes\n",
    "rcParams['figure.figsize'] = 12,5\n",
    "\n",
    "from matplotlib import style\n",
    "from IPython.display import display"
   ]
  },
  {
   "cell_type": "code",
   "execution_count": null,
   "id": "d0530ccb",
   "metadata": {},
   "outputs": [],
   "source": [
    "# Let's look at our folder and files to ensure we have what we need.\n",
    "\n",
    "import chkdir"
   ]
  },
  {
   "cell_type": "code",
   "execution_count": null,
   "id": "678aff81",
   "metadata": {},
   "outputs": [],
   "source": [
    "# Read in csv file with the player details based on game ID.\n",
    "\n",
    "gm_details_df = pd.read_csv('games_details.csv', usecols= ['GAME_ID', 'TEAM_ID', 'TEAM_ABBREVIATION', 'PLAYER_ID',\n",
    "       'PLAYER_NAME', 'START_POSITION', 'MIN', 'FGM',\n",
    "       'FGA', 'FG_PCT', 'FG3M', 'FG3A', 'FG3_PCT', 'FTM', 'FTA', 'FT_PCT',\n",
    "       'OREB', 'DREB', 'REB', 'AST', 'STL', 'BLK', 'TO', 'PF', 'PTS',\n",
    "       'PLUS_MINUS'])\n",
    "\n",
    "gm_details_df.head(5)"
   ]
  },
  {
   "cell_type": "code",
   "execution_count": null,
   "id": "b661100e",
   "metadata": {},
   "outputs": [],
   "source": [
    "# Let's rename a few columns to improve readability.\n",
    "\n",
    "new_gm_df = gm_details_df.rename(columns={'TEAM_ABBREVIATION':'TEAM_ABB', 'START_POSITION':'POS', 'PLAYER_NAME':'PLAYER'})\n",
    "new_gm_df.head(5)"
   ]
  },
  {
   "cell_type": "code",
   "execution_count": null,
   "id": "911f3a6a",
   "metadata": {},
   "outputs": [],
   "source": [
    "# Let's investigate the dataset shape and feature data types.\n",
    "\n",
    "print('The data set shape is:',new_gm_df.shape)\n",
    "print(100*'-')\n",
    "new_gm_df.dtypes"
   ]
  },
  {
   "cell_type": "code",
   "execution_count": null,
   "id": "c794ee03",
   "metadata": {},
   "outputs": [],
   "source": [
    "# Let's Insert a new column called \"SECS\" with the total number of seconds based on the time conversion.\n",
    "\n",
    "seconds_list = []\n",
    "\n",
    "for t in new_gm_df['MIN']:\n",
    "    t_str = str(t)\n",
    "    parts = t_str.split(':')\n",
    "    str_lgth = len(parts)\n",
    "    if \"nan\" not in parts:\n",
    "        if parts[0] != 0:\n",
    "            if str_lgth == 2:\n",
    "                t_secs = abs(int(int(parts[0])*60)) + abs(int(parts[1]))\n",
    "                seconds_list.append(t_secs)\n",
    "                \n",
    "            else:\n",
    "                t_secs = abs(int(int(parts[0])*60))\n",
    "                seconds_list.append(t_secs)\n",
    "                \n",
    "        else:\n",
    "            t_secs = abs(parts[1])\n",
    "            seconds_list.append(t_secs)\n",
    "    elif \"nan\" in parts:\n",
    "        t_secs = 0\n",
    "        seconds_list.append(t_secs)\n",
    "        \n",
    "new_gm_df.insert(7, 'SECS', seconds_list)\n",
    "\n",
    "display(new_gm_df.head(5))"
   ]
  },
  {
   "cell_type": "code",
   "execution_count": null,
   "id": "e08bb833",
   "metadata": {},
   "outputs": [],
   "source": [
    "# Let's insert a new column with the calculated Minutes by dividing the data under 'SECS'.\n",
    "\n",
    "calc_mins = lambda x: x/60\n",
    "\n",
    "mins_list = list(map(calc_mins, new_gm_df['SECS']))\n",
    "\n",
    "new_gm_df.insert(8, 'MINS', mins_list)\n",
    "\n",
    "display(new_gm_df.head(5))"
   ]
  },
  {
   "cell_type": "code",
   "execution_count": null,
   "id": "e03ca62b",
   "metadata": {},
   "outputs": [],
   "source": [
    "# Let's drop the 'MIN' and 'SECS' columns and round out the minutes to 2 decimal places.\n",
    "\n",
    "new_gm_df1 = new_gm_df.drop(['MIN', 'SECS'], axis=1)\n",
    "\n",
    "new_gm_df1 = new_gm_df1.round(decimals=2)"
   ]
  },
  {
   "cell_type": "code",
   "execution_count": null,
   "id": "3424373a",
   "metadata": {},
   "outputs": [],
   "source": [
    "# Are there any Nulls in the dataset? If yes then that would indicate that there might be \n",
    "# players who did not contribute to the boxscores in the game.\n",
    "\n",
    "new_gm_df1.isna().sum()"
   ]
  },
  {
   "cell_type": "code",
   "execution_count": null,
   "id": "7e8d6be1",
   "metadata": {},
   "outputs": [],
   "source": [
    "# Look for anomolies in the features based on their measures of spread. \n",
    "\n",
    "new_gm_df1.describe()"
   ]
  },
  {
   "cell_type": "code",
   "execution_count": null,
   "id": "a185a7b5",
   "metadata": {},
   "outputs": [],
   "source": [
    "# Read in another dataset with the boxscores from the respective game ID. \n",
    "# See jupyter notebook titled \"NBA Games - Preprocessing and Data Cleaning Part 2\" on how this file was prepared.\n",
    "\n",
    "gm_box_sc = pd.read_csv('game_boxscores.csv', index_col=False)\n",
    "display(gm_box_sc.head(5))"
   ]
  },
  {
   "cell_type": "code",
   "execution_count": null,
   "id": "7b654009",
   "metadata": {},
   "outputs": [],
   "source": [
    "# Look at the dataset shape and data types.\n",
    "\n",
    "print(gm_box_sc.shape)\n",
    "print(100*'-')\n",
    "gm_box_sc.dtypes"
   ]
  },
  {
   "cell_type": "code",
   "execution_count": null,
   "id": "b86c2b32",
   "metadata": {},
   "outputs": [],
   "source": [
    "# Let's convert the 'GAME_DATE' column from a string to Datetime object by creating a new column.\n",
    "\n",
    "gm_box_sc['NEW_GAME_DATE'] = pd.to_datetime(gm_box_sc['GAME_DATE'], infer_datetime_format= True) \n",
    "gm_box_sc.head(5)"
   ]
  },
  {
   "cell_type": "code",
   "execution_count": null,
   "id": "01190d3a",
   "metadata": {},
   "outputs": [],
   "source": [
    "# Let's merge the new_gm_df1 dataset with the gm_box_sc dataset to get the Year, Month and Day columns.\n",
    "\n",
    "gm_det_df = pd.merge(new_gm_df1, gm_box_sc[['GAME_ID', 'GM_YR', 'GM_MTH', 'GM_DAY', 'NEW_GAME_DATE']], on='GAME_ID', how= 'right')\n",
    "display(gm_det_df.head(5))"
   ]
  },
  {
   "cell_type": "code",
   "execution_count": null,
   "id": "a9952f67",
   "metadata": {},
   "outputs": [],
   "source": [
    "# What is the new shape of our dataset?\n",
    "\n",
    "print('The original dataframe shape was: ', new_gm_df1.shape)\n",
    "print()\n",
    "print('The new dataframe shape is: ', gm_det_df.shape)"
   ]
  },
  {
   "cell_type": "code",
   "execution_count": null,
   "id": "f5a45a87",
   "metadata": {},
   "outputs": [],
   "source": [
    "# Let's replace all the NaN values with zero.\n",
    "\n",
    "gm_det_df.fillna(0, axis=1, inplace=True)"
   ]
  },
  {
   "cell_type": "code",
   "execution_count": null,
   "id": "d9c5224a",
   "metadata": {},
   "outputs": [],
   "source": [
    "# Check if there are any NaN left.\n",
    "\n",
    "gm_det_df.isna().sum()"
   ]
  },
  {
   "cell_type": "code",
   "execution_count": null,
   "id": "3c6091ef",
   "metadata": {},
   "outputs": [],
   "source": [
    "# Let's get the total team minutes by using a groupby object. This will return a series object.\n",
    "\n",
    "total_team_minutes_ser = gm_det_df.groupby(['GAME_ID', 'TEAM_ID'])['MINS'].sum()\n",
    "display(total_team_minutes_ser)"
   ]
  },
  {
   "cell_type": "code",
   "execution_count": null,
   "id": "49b3334c",
   "metadata": {},
   "outputs": [],
   "source": [
    "# Let's convert the series object to a dataframe. This will be used to calculate the Advanced Stats for a player later.\n",
    "\n",
    "total_team_minutes_df = total_team_minutes_ser.unstack().fillna(0)\n",
    "display(total_team_minutes_df)"
   ]
  },
  {
   "cell_type": "code",
   "execution_count": null,
   "id": "4e09699c",
   "metadata": {},
   "outputs": [],
   "source": [
    "# Let's get the total team FGM. This will be used to calculate the Advanced Stats for a player later.\n",
    "\n",
    "total_team_fgm_ser = gm_det_df.groupby(['GAME_ID', 'TEAM_ID'])['FGM'].sum()\n",
    "display(total_team_fgm_ser)"
   ]
  },
  {
   "cell_type": "code",
   "execution_count": null,
   "id": "789b190a",
   "metadata": {},
   "outputs": [],
   "source": [
    "# Let's convert the series object to a dataframe. This will be used to calculate the Advanced Stats for a player later.\n",
    "\n",
    "total_team_fgm_df = total_team_fgm_ser.unstack().fillna(0)\n",
    "display(total_team_fgm_df)"
   ]
  },
  {
   "cell_type": "code",
   "execution_count": null,
   "id": "bb254a43",
   "metadata": {},
   "outputs": [],
   "source": [
    "# Import a python script I created for calculating several Advanced Stats.\n",
    "\n",
    "import nba_adv_stat as nas"
   ]
  },
  {
   "cell_type": "code",
   "execution_count": null,
   "id": "2da717d1",
   "metadata": {},
   "outputs": [],
   "source": [
    "# Let's calculate a New Advance Stat for the Assist % using the total team mins played.\n",
    "\n",
    "num_rows = gm_det_df.shape[0]\n",
    "\n",
    "tot_tm_asst_list = [ ]\n",
    "\n",
    "for i in range(0, num_rows):\n",
    "    gm_id = gm_det_df['GAME_ID'][i]\n",
    "    tm_id = gm_det_df['TEAM_ID'][i]\n",
    "    tot_tm_mins = total_team_minutes_df.loc[gm_id, tm_id] # Get the total team Mins.\n",
    "    tm_fg = total_team_fgm_df.loc[gm_id, tm_id] # Get the total team FGM.\n",
    "    asst = gm_det_df['AST'][i]\n",
    "    mins = gm_det_df['MINS'][i]\n",
    "    fg_ply = gm_det_df['FGM'][i]\n",
    "    \n",
    "    asst_pert = nas.asst_perct(asst, mins, tot_tm_mins, tm_fg, fg_ply)\n",
    "    \n",
    "    tot_tm_asst_list.append(asst_pert)"
   ]
  },
  {
   "cell_type": "code",
   "execution_count": null,
   "id": "bd7b3e75",
   "metadata": {},
   "outputs": [],
   "source": [
    "# Let's calculate a New Advance Stat for the Turnover %.\n",
    "\n",
    "num_rows = gm_det_df.shape[0]\n",
    "\n",
    "turnover_list = [ ]\n",
    "\n",
    "for i in range(0, num_rows):\n",
    "    gm_id = gm_det_df['GAME_ID'][i]\n",
    "    tm_id = gm_det_df['TEAM_ID'][i]\n",
    "    turnover_ply = gm_det_df['TO'][i]\n",
    "    fga = gm_det_df['FGA'][i]\n",
    "    fta = gm_det_df['FTA'][i]\n",
    "    \n",
    "    tov_pert = nas.turnover_perct(turnover_ply, fga, fta)\n",
    "    \n",
    "    turnover_list.append(tov_pert)"
   ]
  },
  {
   "cell_type": "code",
   "execution_count": null,
   "id": "54a88a29",
   "metadata": {},
   "outputs": [],
   "source": [
    "# Let's take a look at the columns in the dataframe again to ensure we use the correct column name.\n",
    "\n",
    "gm_det_df.columns"
   ]
  },
  {
   "cell_type": "code",
   "execution_count": null,
   "id": "2f8a524b",
   "metadata": {},
   "outputs": [],
   "source": [
    "# Let's get the total team OREB.\n",
    "\n",
    "total_team_oreb_ser = gm_det_df.groupby(['GAME_ID', 'TEAM_ID'])['OREB'].sum()\n",
    "display(total_team_oreb_ser)"
   ]
  },
  {
   "cell_type": "code",
   "execution_count": null,
   "id": "26c59bf3",
   "metadata": {},
   "outputs": [],
   "source": [
    "# Let's convert the series object to a dataframe. This will be used to calculate the Advanced Stats for a player later.\n",
    "\n",
    "total_team_oreb_df = total_team_oreb_ser.unstack().fillna(0)\n",
    "total_team_oreb_df"
   ]
  },
  {
   "cell_type": "code",
   "execution_count": null,
   "id": "0597195d",
   "metadata": {},
   "outputs": [],
   "source": [
    "# Let's calculate a New Advance Stat for the ORB % using the total team mins played.\n",
    "\n",
    "num_rows = gm_det_df.shape[0]\n",
    "\n",
    "offensive_reb_list = [ ]\n",
    "\n",
    "for i in range(0, num_rows):\n",
    "    gm_id = gm_det_df['GAME_ID'][i]\n",
    "    tm_id = gm_det_df['TEAM_ID'][i]\n",
    "    \n",
    "    # Getting the function parameters:\n",
    "    tot_tm_mins = total_team_minutes_df.loc[gm_id, tm_id] # Get the total team Mins.\n",
    "    oreb_ply = gm_det_df['OREB'][i]\n",
    "    mins_ply = gm_det_df['MINS'][i]\n",
    "    \n",
    "    oreb_tm = total_team_oreb_df.loc[gm_id, tm_id] # This gives the 1st team total oreb's.\n",
    "    \n",
    "    tm_id_ser = total_team_oreb_ser.loc[gm_id] # See the previoue code block to see how the series output looks.\n",
    "    \n",
    "    if tm_id_ser.index[0] != tm_id: # This will check to ensure the 2nd/ opponent team total oreb's are choosen.\n",
    "        oreb_opp = tm_id_ser.iloc[0] # will give the opponent's oreb's.\n",
    "    else:\n",
    "        oreb_opp = tm_id_ser.iloc[1]\n",
    "\n",
    "    oreb_pert = nas.off_rebs_pct(oreb_ply,tot_tm_mins, mins_ply, oreb_tm, oreb_opp)\n",
    "    \n",
    "    offensive_reb_list.append(oreb_pert)"
   ]
  },
  {
   "cell_type": "code",
   "execution_count": null,
   "id": "4e6cad7a",
   "metadata": {},
   "outputs": [],
   "source": [
    "# Let's calculate a New Advance Stat for the eFG%.\n",
    "\n",
    "num_rows = gm_det_df.shape[0]\n",
    "\n",
    "eff_fg_list = []\n",
    "\n",
    "for i in range(0, num_rows):\n",
    "    gm_id = gm_det_df['GAME_ID'][i]\n",
    "    tm_id = gm_det_df['TEAM_ID'][i]\n",
    "    fg_ply = gm_det_df['FGM'][i]\n",
    "    fg_3m_ply = gm_det_df['FG3M'][i]\n",
    "    fga = gm_det_df['FGA'][i]\n",
    "    \n",
    "    eff_fg = nas.eff_fg_pct(fg_ply, fg_3m_ply, fga)\n",
    "    eff_fg_list.append(eff_fg)"
   ]
  },
  {
   "cell_type": "code",
   "execution_count": null,
   "id": "05776025",
   "metadata": {},
   "outputs": [],
   "source": [
    "# Let's calculate a New Advance Stat for the TS%.\n",
    "\n",
    "num_rows = gm_det_df.shape[0]\n",
    "\n",
    "true_sht_list = []\n",
    "\n",
    "for i in range(0, num_rows):\n",
    "    gm_id = gm_det_df['GAME_ID'][i]\n",
    "    tm_id = gm_det_df['TEAM_ID'][i]\n",
    "    pts = gm_det_df['PTS'][i]\n",
    "    fta = gm_det_df['FTA'][i]\n",
    "    fga = gm_det_df['FGA'][i]\n",
    "    \n",
    "    ts = nas.true_sht_pct(pts, fga, fta)\n",
    "    true_sht_list.append(ts)"
   ]
  },
  {
   "cell_type": "code",
   "execution_count": null,
   "id": "1da4d710",
   "metadata": {},
   "outputs": [],
   "source": [
    "# Let's creates a series object. This will be used to calculate the Advanced Stats for a player later.\n",
    "\n",
    "total_team_ft_ser = gm_det_df.groupby(['GAME_ID', 'TEAM_ID'])['FTM'].sum()\n",
    "display(total_team_ft_ser)"
   ]
  },
  {
   "cell_type": "code",
   "execution_count": null,
   "id": "4cf4255e",
   "metadata": {},
   "outputs": [],
   "source": [
    "## Let's convert the series object to a dataframe. This will be used to calculate the Advanced Stats for a player later.\n",
    "\n",
    "total_team_ft_df = total_team_ft_ser.unstack().fillna(0)\n",
    "total_team_ft_df"
   ]
  },
  {
   "cell_type": "code",
   "execution_count": null,
   "id": "5f10ff87",
   "metadata": {},
   "outputs": [],
   "source": [
    "# Let's creates a series object. This will be used to calculate the Advanced Stats for a player later.\n",
    "\n",
    "total_team_to_ser = gm_det_df.groupby(['GAME_ID', 'TEAM_ID'])['TO'].sum()\n",
    "display(total_team_to_ser)"
   ]
  },
  {
   "cell_type": "code",
   "execution_count": null,
   "id": "420dc9ce",
   "metadata": {},
   "outputs": [],
   "source": [
    "# Let's convert the series object to a dataframe. This will be used to calculate the Advanced Stats for a player later.\n",
    "\n",
    "total_team_to_df = total_team_to_ser.unstack().fillna(0)\n",
    "total_team_to_df"
   ]
  },
  {
   "cell_type": "code",
   "execution_count": null,
   "id": "fad5505e",
   "metadata": {},
   "outputs": [],
   "source": [
    "# Let's calculate a New Advance Stat for the USG%.\n",
    "\n",
    "num_rows = gm_det_df.shape[0]\n",
    "\n",
    "usage_rate_list = [ ]\n",
    "\n",
    "for i in range(0, num_rows):\n",
    "    gm_id = gm_det_df['GAME_ID'][i]\n",
    "    tm_id = gm_det_df['TEAM_ID'][i]\n",
    "    turnover_ply = gm_det_df['TO'][i]\n",
    "    fga = gm_det_df['FGA'][i]\n",
    "    fta = gm_det_df['FTA'][i]\n",
    "    tot_tm_mins = total_team_minutes_df.loc[gm_id, tm_id]\n",
    "    mins = gm_det_df['MINS'][i]\n",
    "    tm_fg = total_team_fgm_df.loc[gm_id, tm_id]\n",
    "    tm_ft = total_team_ft_df.loc[gm_id, tm_id]\n",
    "    tm_to = total_team_to_df.loc[gm_id, tm_id]\n",
    "    \n",
    "    \n",
    "    usg = nas.usage_rate(fga, fta, turnover_ply, tot_tm_mins, mins, tm_fg, tm_ft, tm_to)\n",
    "    \n",
    "    usage_rate_list.append(usg)"
   ]
  },
  {
   "cell_type": "code",
   "execution_count": null,
   "id": "7f3e66e8",
   "metadata": {},
   "outputs": [],
   "source": [
    "# Let's calculate a New Advance Stat for the PPP%.\n",
    "\n",
    "num_rows = gm_det_df.shape[0]\n",
    "\n",
    "ppp_list = [ ]\n",
    "\n",
    "for i in range(0, num_rows):\n",
    "    gm_id = gm_det_df['GAME_ID'][i]\n",
    "    tm_id = gm_det_df['TEAM_ID'][i]\n",
    "    turnover_ply = gm_det_df['TO'][i]\n",
    "    fga = gm_det_df['FGA'][i]\n",
    "    fta = gm_det_df['FTA'][i]\n",
    "    pts = gm_det_df['PTS'][i]\n",
    "    \n",
    "    ppp = nas.pts_per_poss(pts, fga, fta, turnover_ply)\n",
    "    \n",
    "    ppp_list.append(ppp)"
   ]
  },
  {
   "cell_type": "code",
   "execution_count": null,
   "id": "66174bf9",
   "metadata": {},
   "outputs": [],
   "source": [
    "# Let's update the gm_det_df with all the new advanced stats lists.\n",
    "\n",
    "gm_det_df.insert(1, 'ASST_%', tot_tm_asst_list)\n",
    "gm_det_df.insert(2, 'TO_%', turnover_list)\n",
    "gm_det_df.insert(3, 'OREB_%', offensive_reb_list)\n",
    "gm_det_df.insert(4, 'eFG%', eff_fg_list)\n",
    "gm_det_df.insert(5, 'TS%', true_sht_list)\n",
    "gm_det_df.insert(6, 'USG%', usage_rate_list)\n",
    "gm_det_df.insert(7, 'PPP%', ppp_list)"
   ]
  },
  {
   "cell_type": "code",
   "execution_count": null,
   "id": "a4dc3ff7",
   "metadata": {},
   "outputs": [],
   "source": [
    "# Let's take a look at the data frame.\n",
    "\n",
    "gm_det_df.head(5)"
   ]
  },
  {
   "cell_type": "code",
   "execution_count": null,
   "id": "84e65373",
   "metadata": {},
   "outputs": [],
   "source": [
    "# Let's check the new dataframe's shape.\n",
    "\n",
    "gm_det_df.shape"
   ]
  },
  {
   "cell_type": "code",
   "execution_count": null,
   "id": "4745c84b",
   "metadata": {},
   "outputs": [],
   "source": [
    "# Let's convert the ID columns from integer to string objects. \n",
    "\n",
    "gm_det_df['GAME_ID'] = gm_det_df['GAME_ID'].astype(str)\n",
    "gm_det_df['TEAM_ID'] = gm_det_df['TEAM_ID'].astype(str)\n",
    "gm_det_df['PLAYER_ID'] = gm_det_df['PLAYER_ID'].astype(str)"
   ]
  },
  {
   "cell_type": "code",
   "execution_count": null,
   "id": "cad8cee0",
   "metadata": {},
   "outputs": [],
   "source": [
    "# Verify all data types are accurate.\n",
    "\n",
    "gm_det_df.info()"
   ]
  },
  {
   "cell_type": "code",
   "execution_count": null,
   "id": "35063bd2",
   "metadata": {},
   "outputs": [],
   "source": [
    "# Check for anomolies in the measures of spread.\n",
    "\n",
    "gm_det_df.describe()"
   ]
  },
  {
   "cell_type": "code",
   "execution_count": null,
   "id": "5a4deca3",
   "metadata": {},
   "outputs": [],
   "source": [
    "# Save the dataframe to a csv file for later use.\n",
    "\n",
    "gm_det_df.to_csv('nba_game_data.csv')"
   ]
  },
  {
   "cell_type": "markdown",
   "id": "4b7b184e",
   "metadata": {},
   "source": [
    "End of Code"
   ]
  }
 ],
 "metadata": {
  "kernelspec": {
   "display_name": "Python 3",
   "language": "python",
   "name": "python3"
  },
  "language_info": {
   "codemirror_mode": {
    "name": "ipython",
    "version": 3
   },
   "file_extension": ".py",
   "mimetype": "text/x-python",
   "name": "python",
   "nbconvert_exporter": "python",
   "pygments_lexer": "ipython3",
   "version": "3.8.8"
  }
 },
 "nbformat": 4,
 "nbformat_minor": 5
}
